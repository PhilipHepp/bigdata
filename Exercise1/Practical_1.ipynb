{
 "cells": [
  {
   "cell_type": "markdown",
   "metadata": {},
   "source": [
    "## Exercise 1: basic statistics and visualisation\n",
    "The datasets we will be using throughout the practical exercises of this course are subsets of the FIFA 18 Complete Player Dataset from kaggle.com, which is extracted from the latest edition of FIFA, a football simulation game. In this dataset the player's attributes like personal data (e.g. Nationality, Club, Age, Value, …) and performances (e.g. Agression, Agility, Overall, Potential, …) of in total .. players are collected.\n",
    "\n",
    "For the individuals tasks we will give you preprocessed data. This time, 42 features for you to discover."
   ]
  },
  {
   "cell_type": "code",
   "execution_count": 2,
   "metadata": {
    "collapsed": true
   },
   "outputs": [],
   "source": [
    "import numpy as np\n",
    "import pandas as pd\n",
    "import matplotlib.pyplot as plt"
   ]
  },
  {
   "cell_type": "markdown",
   "metadata": {},
   "source": [
    "At first, load the 'data/fifa1.csv' as DataFrame, in order to work with it. To do so, use pandas read_csv method:\n",
    "\n",
    "https://pandas.pydata.org/pandas-docs/stable/generated/pandas.read_csv.html\n",
    "\n",
    "Note: you only have to specify necessary parameters."
   ]
  },
  {
   "cell_type": "code",
   "execution_count": 5,
   "metadata": {},
   "outputs": [],
   "source": [
    "data = pd.read_csv(\"fifa1.csv\")"
   ]
  },
  {
   "cell_type": "markdown",
   "metadata": {},
   "source": [
    "At the beginning, get a first insight into the structure of the data. Verify that the shape of the dataset is (17076, 43), what means it contains 43 features (columns) and 17076 samples (rows). In addition print the data types of the columns and the top 5 rows of the DataFrame. \n",
    "\n",
    "https://pandas.pydata.org/pandas-docs/stable/generated/pandas.DataFrame.html"
   ]
  },
  {
   "cell_type": "code",
   "execution_count": 15,
   "metadata": {},
   "outputs": [
    {
     "name": "stdout",
     "output_type": "stream",
     "text": [
      "                Name  Age Nationality  Overall  Potential  \\\n",
      "0  Cristiano Ronaldo   32    Portugal       94         94   \n",
      "1           L. Messi   30   Argentina       93         93   \n",
      "2             Neymar   25      Brazil       92         94   \n",
      "3          L. Suárez   30     Uruguay       92         92   \n",
      "4           M. Neuer   31     Germany       92         92   \n",
      "\n",
      "                  Club  Special  Acceleration  Aggression  Agility    ...      \\\n",
      "0       Real Madrid CF     2228            89          63       89    ...       \n",
      "1         FC Barcelona     2154            92          48       90    ...       \n",
      "2  Paris Saint-Germain     2100            94          56       96    ...       \n",
      "3         FC Barcelona     2291            88          78       86    ...       \n",
      "4     FC Bayern Munich     1493            58          29       52    ...       \n",
      "\n",
      "   Shot power  Sliding tackle  Sprint speed  Stamina  Standing tackle  \\\n",
      "0          94              23            91       92               31   \n",
      "1          85              26            87       73               28   \n",
      "2          80              33            90       78               24   \n",
      "3          87              38            77       89               45   \n",
      "4          25              11            61       44               10   \n",
      "\n",
      "   Strength  Vision  Volleys  Value Euro  Wage Euro  \n",
      "0        80      85       88    95500000     565000  \n",
      "1        59      90       85   105000000     565000  \n",
      "2        53      80       83   123000000     280000  \n",
      "3        80      84       88    97000000     510000  \n",
      "4        83      70       11    61000000     230000  \n",
      "\n",
      "[5 rows x 43 columns]\n"
     ]
    },
    {
     "data": {
      "text/plain": [
       "(17076, 43)"
      ]
     },
     "execution_count": 15,
     "metadata": {},
     "output_type": "execute_result"
    }
   ],
   "source": [
    "print(data.head(n=5))\n",
    "data.columns\n",
    "data.shape"
   ]
  },
  {
   "cell_type": "markdown",
   "metadata": {},
   "source": [
    "Now that you have basic information about the dataset. Time to have a closer look at statistical properties of different features (columns). For this, implement 3 functions, each of which gets the column of a DataFrame as argument.\n",
    "\n",
    "The first function *my_mean* should calculate the mean of a features (columns) sample distribution, defined as $mean(X) = \\frac{1}{|X|}\\sum_{x \\in X}x$.\n",
    "\n",
    "The second function *my_var* should calculate the variance of a features sample distribution, defined as the expected squared difference of the samples and their mean $var(X) = \\frac{1}{|X|} \\sum_{x \\in X} (x - mean(X))^2$.\n",
    "\n",
    "Finally calculate the median of a feature in *my_median*, which is the central value in an ordered version of the samples. So if $X = (x_1, x_2, ..., x_n)$ are the sorted values of a feature, it is defined as $median(X) = \n",
    "\\begin{cases} \n",
    "x_{\\frac{n+1}{2}} \\text{ if $n$ is odd} \\\\\n",
    "\\frac{1}{2}(x_{\\frac{n}{2}} + x_{\\frac{n}{2}+1}) \\text{ if $n$ is even}\n",
    "\\end{cases}\n",
    "$.\n",
    "\n",
    "For sorting you should use the 'sort_values' method: https://pandas.pydata.org/pandas-docs/stable/generated/pandas.Series.sort_values.html\n",
    "\n",
    "In addition, you have to reset the indices after sorting, using 'reset_index': http://pandas.pydata.org/pandas-docs/version/0.20.3/generated/pandas.DataFrame.reset_index.html\n",
    "\n",
    "**Hint:** be aware of the 0-based indexing of pandas/numpy datatypes."
   ]
  },
  {
   "cell_type": "code",
   "execution_count": 58,
   "metadata": {},
   "outputs": [
    {
     "name": "stdout",
     "output_type": "stream",
     "text": [
      "23.0\n"
     ]
    }
   ],
   "source": [
    "def my_mean(column):\n",
    "    mean = 0 \n",
    "    for c in column:\n",
    "        mean = mean + c\n",
    "    mean = mean/len(column)    \n",
    "    return mean\n",
    "\n",
    "def my_var(column):\n",
    "    mean = my_mean(column)\n",
    "    sumColumn = 0\n",
    "    for c in column:\n",
    "        c = (c - mean)**2\n",
    "        sumColumn = sumColumn + c \n",
    "    var = sumColumn/len(column)\n",
    "    return var\n",
    "\n",
    "def my_median(column):\n",
    "    data.sort_values(by=['Age'])\n",
    "    length = len(column)\n",
    "    if length % 2 == 0:\n",
    "        median = (column[int((length-1)/2)] + column[int((length-1)/2 + 1)])*0.5\n",
    "    else:\n",
    "        median = column[int((length-1)/2)]\n",
    "    data.reset_index()\n",
    "    return median\n",
    "\n",
    "print(my_median(data.Age))\n",
    "\n"
   ]
  },
  {
   "cell_type": "markdown",
   "metadata": {},
   "source": [
    "Use your function to compute mean, variance and median for the numerical features \n",
    "- Ball control\n",
    "- Wage Euro\n",
    "- Age\n",
    "- Acceleration\n",
    "\n",
    "Calculate the statistical measures using your own function and the pre-implemented version of numpy/pandas. Print for each of the features the name and the results."
   ]
  },
  {
   "cell_type": "code",
   "execution_count": null,
   "metadata": {
    "collapsed": true
   },
   "outputs": [],
   "source": [
    "features = ['Ball control', 'Wage Euro', 'Age', 'Acceleration']\n",
    "\n",
    "for ft in features:\n",
    "    # TODO: do calculations and print"
   ]
  },
  {
   "cell_type": "markdown",
   "metadata": {},
   "source": [
    "Next we want analyse some statistical dependencies. As an example calculate the following probabilities, based on the dataset:\n",
    "- $p_1 = P(Wage~Euro > 100000)$\n",
    "- $p_2 = P(Wage~Euro > 100000,~ Value~Euro > 10000000)$\n",
    "- $p_3 = P(Wage~Euro > 100000~ |~ Value~Euro > 10000000)$\n",
    "\n",
    "To do this, the following parts of the documentation might be useful:\n",
    "\n",
    "https://pandas.pydata.org/pandas-docs/stable/indexing.html\n",
    "\n",
    "http://pandas.pydata.org/pandas-docs/stable/computation.html\n",
    "\n",
    "https://docs.scipy.org/doc/numpy-1.13.0/reference/routines.math.html"
   ]
  },
  {
   "cell_type": "code",
   "execution_count": null,
   "metadata": {
    "collapsed": true
   },
   "outputs": [],
   "source": [
    "# TODO: do calculation of probabilities and print results"
   ]
  },
  {
   "cell_type": "markdown",
   "metadata": {},
   "source": [
    "Finally analyse the dataset visually by using matplotlib. Create histograms of:\n",
    "- Wage Euro using 100 bins\n",
    "- Age using 20 bins\n",
    "- Stamina using 30 bins\n",
    "\n",
    "See also:\n",
    "\n",
    "https://matplotlib.org/tutorials/introductory/pyplot.html#sphx-glr-tutorials-introductory-pyplot-py\n",
    "\n",
    "https://matplotlib.org/devdocs/api/_as_gen/matplotlib.pyplot.hist.html\n",
    "\n",
    "Do not forget to add a title to each plot and to name the axes."
   ]
  },
  {
   "cell_type": "code",
   "execution_count": null,
   "metadata": {
    "collapsed": true
   },
   "outputs": [],
   "source": [
    "# TODO: plot histograms of features"
   ]
  }
 ],
 "metadata": {
  "kernelspec": {
   "display_name": "Python 3",
   "language": "python",
   "name": "python3"
  },
  "language_info": {
   "codemirror_mode": {
    "name": "ipython",
    "version": 3
   },
   "file_extension": ".py",
   "mimetype": "text/x-python",
   "name": "python",
   "nbconvert_exporter": "python",
   "pygments_lexer": "ipython3",
   "version": "3.6.2"
  }
 },
 "nbformat": 4,
 "nbformat_minor": 2
}
